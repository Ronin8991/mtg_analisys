{
 "cells": [
  {
   "cell_type": "code",
   "execution_count": 1,
   "metadata": {},
   "outputs": [],
   "source": [
    "import requests\n",
    "import json\n",
    "import csv\n",
    "import time"
   ]
  },
  {
   "cell_type": "code",
   "execution_count": null,
   "metadata": {},
   "outputs": [],
   "source": [
    "with open('atraxa_decklist.csv',mode='r',encoding='utf-8') as file:\n",
    "    atraxa_deckobject=csv.reader(file,delimiter=';') \n",
    "    for row in atraxa_deckobject:\n",
    "        atraxa_decklist=row\n",
    "print(atraxa_decklist)\n",
    "print(len(atraxa_decklist))"
   ]
  },
  {
   "cell_type": "code",
   "execution_count": null,
   "metadata": {},
   "outputs": [
    {
     "name": "stdout",
     "output_type": "stream",
     "text": [
      "['Arcane+Signet', 'Astral+Cornucopia', 'Bloated+Contaminator', 'Bojuka+Bog', 'Bountiful+Promenade', 'Brainstorm', 'Cankerbloom', 'Canopy+Vista', 'Chromatic+Lantern', 'Command+Tower', 'Contaminant+Grafter', 'Corrupted+Conscience', 'Corrupted+Resolve', 'Culling+Ritual', 'Cultivate', 'Deadly+Rollick', 'Despark', 'Diabolic+Intent', 'Distorted+Curiosity', 'Elesh+Norn', 'Elesh+Norn,+Mother+of+Machines', 'Everflowing+Chalice', 'Evolution+Sage', 'Exotic+Orchard', 'Expand+the+Sphere', 'Experimental+Augury', 'Ezuri,+Stalker+of+Spheres', 'Farewell', 'Farseek', 'Forest', 'Forest', 'Forest', \"Geth's+Summons\", \"Glissa's+Retriever\", 'Glistening+Sphere', 'Ichor+Rats', 'Inexorable+Tide', 'Infectious+Bite', 'Infectious+Inquiry', 'Island', 'Island', 'Island', 'Island', 'Ixhel,+Scion+of+Atraxa', \"Karn's+Bastion\", 'Lightning+Greaves', 'Lotus+Petal', 'Murmuring+Bosk', 'Myriad+Landscape', 'Mystical+Tutor', 'Necroblossom+Snarl', \"Norn's+Choirmaster\", \"Norn's+Decree\", 'Path+of+Ancestry', 'Path+to+Exile', 'Phyresis+Outbreak', 'Plains', 'Plains', 'Plains', 'Planewide+Celebration', 'Preordain', 'Prologue+to+Phyresis', 'Putrefax', 'Rampant+Growth', \"Rogue's+Passage\", 'Sakura-Tribe+Elder', 'Sandsteppe+Citadel', 'Sea+of+Clouds', 'Skithiryx,+the+Blight+Dragon', 'Skrelv,+Defector+Mite', \"Skrelv's+Hive\", 'Sol+Ring', \"Spara's+Headquarters\", 'Sungrass+Prairie', 'Sunken+Hollow', 'Swamp', 'Swamp', 'Swamp', 'Swamp', 'Swords+to+Plowshares', 'Tainted+Field', 'Tainted+Wood', 'Tekuthal,+Inquiry+Dominus', 'Temple+of+Malady', 'Temple+of+Mystery', \"Tezzeret's+Gambit\", 'The+Eternal+Wanderer', 'The+One+Ring', \"Trailblazer's+Boots\", 'Tyrranax+Rex', 'Venerated+Rotpriest', 'Venomous+Brutalizer', 'Viridian+Corrupter', 'Vishgraz,+the+Doomhive', 'Voidwing+Hybrid', \"Vraska,+Betrayal's+Sting\", \"Vraska's+Fall\", \"White+Sun's+Twilight\", 'Wurmquake', \"Atraxa,+Praetors'+Voice\"]\n"
     ]
    }
   ],
   "source": [
    "rectified_decklist=[]\n",
    "for element in atraxa_decklist:\n",
    "    rectified_decklist.append(element.replace(' ','+'))\n",
    "print(rectified_decklist)"
   ]
  },
  {
   "cell_type": "code",
   "execution_count": null,
   "metadata": {},
   "outputs": [
    {
     "name": "stdout",
     "output_type": "stream",
     "text": [
      "[<Response [200]>, <Response [200]>, <Response [200]>, <Response [200]>, <Response [200]>, <Response [200]>, <Response [200]>, <Response [200]>, <Response [200]>, <Response [200]>, <Response [200]>, <Response [200]>, <Response [200]>, <Response [200]>, <Response [200]>, <Response [200]>, <Response [200]>, <Response [200]>, <Response [200]>, <Response [200]>, <Response [200]>, <Response [200]>, <Response [200]>, <Response [200]>, <Response [200]>, <Response [200]>, <Response [200]>, <Response [200]>, <Response [200]>, <Response [200]>, <Response [200]>, <Response [200]>, <Response [200]>, <Response [200]>, <Response [200]>, <Response [200]>, <Response [200]>, <Response [200]>, <Response [200]>, <Response [200]>, <Response [200]>, <Response [200]>, <Response [200]>, <Response [200]>, <Response [200]>, <Response [200]>, <Response [200]>, <Response [200]>, <Response [200]>, <Response [200]>, <Response [200]>, <Response [200]>, <Response [200]>, <Response [200]>, <Response [200]>, <Response [200]>, <Response [200]>, <Response [200]>, <Response [200]>, <Response [200]>, <Response [200]>, <Response [200]>, <Response [200]>, <Response [200]>, <Response [200]>, <Response [200]>, <Response [200]>, <Response [200]>, <Response [200]>, <Response [200]>, <Response [200]>, <Response [200]>, <Response [200]>, <Response [200]>, <Response [200]>, <Response [200]>, <Response [200]>, <Response [200]>, <Response [200]>, <Response [200]>, <Response [200]>, <Response [200]>, <Response [200]>, <Response [200]>, <Response [200]>, <Response [200]>, <Response [200]>, <Response [200]>, <Response [200]>, <Response [200]>, <Response [200]>, <Response [200]>, <Response [200]>, <Response [200]>, <Response [200]>, <Response [200]>, <Response [200]>, <Response [200]>, <Response [200]>, <Response [200]>]\n"
     ]
    }
   ],
   "source": [
    "request_list=[]\n",
    "for element in rectified_decklist:\n",
    "    request_list.append(requests.get(f\"https://api.scryfall.com/cards/named?exact={element}\"))\n",
    "    time.sleep(0.1)\n",
    "print(request_list)"
   ]
  },
  {
   "cell_type": "code",
   "execution_count": null,
   "metadata": {},
   "outputs": [],
   "source": [
    "with open(\"cut_string.txt\",\"r\") as file:\n",
    "    cut_string=file.read()\n",
    "\n",
    "cut_string=cut_string.split(',')"
   ]
  },
  {
   "cell_type": "code",
   "execution_count": null,
   "metadata": {},
   "outputs": [],
   "source": [
    "rectified_request_list=[]\n",
    "for y in request_list:\n",
    "    rrl_element=y.json()\n",
    "    for x in cut_string:\n",
    "        rrl_element.pop(x,'')\n",
    "    rectified_request_list.append(rrl_element)\n",
    "rectified_request_list[0]"
   ]
  },
  {
   "cell_type": "code",
   "execution_count": null,
   "metadata": {},
   "outputs": [],
   "source": [
    "decklist_dictionary={}\n",
    "for i in rectified_request_list:\n",
    "    if i['name'] not in decklist_dictionary:\n",
    "        decklist_dictionary[i['name']]={\"object\":i,\"counter\":1}\n",
    "    else:\n",
    "        decklist_dictionary[i['name']][\"counter\"]+=1"
   ]
  },
  {
   "cell_type": "code",
   "execution_count": null,
   "metadata": {},
   "outputs": [],
   "source": [
    "with open('lista_atraxa.json','w') as file:\n",
    "    json.dump(decklist_dictionary, file, indent=6)"
   ]
  },
  {
   "cell_type": "code",
   "execution_count": null,
   "metadata": {},
   "outputs": [],
   "source": [
    "decklist_dictionary"
   ]
  },
  {
   "cell_type": "code",
   "execution_count": null,
   "metadata": {},
   "outputs": [],
   "source": []
  }
 ],
 "metadata": {
  "kernelspec": {
   "display_name": "Python 3",
   "language": "python",
   "name": "python3"
  },
  "language_info": {
   "codemirror_mode": {
    "name": "ipython",
    "version": 3
   },
   "file_extension": ".py",
   "mimetype": "text/x-python",
   "name": "python",
   "nbconvert_exporter": "python",
   "pygments_lexer": "ipython3",
   "version": "3.11.5"
  }
 },
 "nbformat": 4,
 "nbformat_minor": 2
}
